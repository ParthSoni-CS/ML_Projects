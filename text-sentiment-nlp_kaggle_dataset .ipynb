{
 "cells": [
  {
   "cell_type": "code",
   "execution_count": 1,
   "metadata": {
    "_cell_guid": "b1076dfc-b9ad-4769-8c92-a6c4dae69d19",
    "_uuid": "8f2839f25d086af736a60e9eeb907d3b93b6e0e5",
    "execution": {
     "iopub.execute_input": "2021-11-26T12:10:51.485276Z",
     "iopub.status.busy": "2021-11-26T12:10:51.484841Z",
     "iopub.status.idle": "2021-11-26T12:10:51.498929Z",
     "shell.execute_reply": "2021-11-26T12:10:51.497879Z",
     "shell.execute_reply.started": "2021-11-26T12:10:51.485242Z"
    }
   },
   "outputs": [
    {
     "name": "stdout",
     "output_type": "stream",
     "text": [
      "database.sqlite\n",
      "Tweets.csv\n"
     ]
    }
   ],
   "source": [
    "# This Python 3 environment comes with many helpful analytics libraries installed\n",
    "# It is defined by the kaggle/python Docker image: https://github.com/kaggle/docker-python\n",
    "# For example, here's several helpful packages to load\n",
    "\n",
    "import numpy as np # linear algebra\n",
    "import pandas as pd # data processing, CSV file I/O (e.g. pd.read_csv)\n",
    "import matplotlib.pyplot as plt\n",
    "import nltk \n",
    "from nltk import NaiveBayesClassifier\n",
    "from nltk import pos_tag\n",
    "from nltk.corpus import stopwords\n",
    "from nltk.stem import WordNetLemmatizer\n",
    "from nltk.corpus import wordnet\n",
    "import re\n",
    "import string \n",
    "from sklearn.feature_extraction.text import CountVectorizer\n",
    "from sklearn.model_selection import train_test_split\n",
    "from sklearn.svm import SVC\n",
    "from sklearn.ensemble import RandomForestClassifier \n",
    "from sklearn.tree import DecisionTreeClassifier\n",
    "from sklearn.metrics import classification_report , confusion_matrix , accuracy_score\n",
    "\n",
    "# Input data files are available in the read-only \"../input/\" directory\n",
    "# For example, running this (by clicking run or pressing Shift+Enter) will list all files under the input directory\n",
    "\n",
    "import os\n",
    "for filenames in os.listdir('D:/ML Projects/NLP/US airlines Twitter Sentiment'):\n",
    "    print(filenames)\n",
    "# You can write up to 20GB to the current directory (/kaggle/working/) that gets preserved as output when you create a version using \"Save & Run All\" \n",
    "# You can also write temporary files to /kaggle/temp/, but they won't be saved outside of the current session"
   ]
  },
  {
   "cell_type": "markdown",
   "metadata": {},
   "source": [
    "## Loading data in pandas dataframe"
   ]
  },
  {
   "cell_type": "markdown",
   "metadata": {},
   "source": []
  },
  {
   "cell_type": "code",
   "execution_count": 2,
   "metadata": {
    "execution": {
     "iopub.execute_input": "2021-11-26T11:42:47.463368Z",
     "iopub.status.busy": "2021-11-26T11:42:47.463015Z",
     "iopub.status.idle": "2021-11-26T11:42:47.646345Z",
     "shell.execute_reply": "2021-11-26T11:42:47.645214Z",
     "shell.execute_reply.started": "2021-11-26T11:42:47.463317Z"
    }
   },
   "outputs": [
    {
     "data": {
      "text/html": [
       "<div>\n",
       "<style scoped>\n",
       "    .dataframe tbody tr th:only-of-type {\n",
       "        vertical-align: middle;\n",
       "    }\n",
       "\n",
       "    .dataframe tbody tr th {\n",
       "        vertical-align: top;\n",
       "    }\n",
       "\n",
       "    .dataframe thead th {\n",
       "        text-align: right;\n",
       "    }\n",
       "</style>\n",
       "<table border=\"1\" class=\"dataframe\">\n",
       "  <thead>\n",
       "    <tr style=\"text-align: right;\">\n",
       "      <th></th>\n",
       "      <th>tweet_id</th>\n",
       "      <th>airline_sentiment</th>\n",
       "      <th>airline_sentiment_confidence</th>\n",
       "      <th>negativereason</th>\n",
       "      <th>negativereason_confidence</th>\n",
       "      <th>airline</th>\n",
       "      <th>airline_sentiment_gold</th>\n",
       "      <th>name</th>\n",
       "      <th>negativereason_gold</th>\n",
       "      <th>retweet_count</th>\n",
       "      <th>text</th>\n",
       "      <th>tweet_coord</th>\n",
       "      <th>tweet_created</th>\n",
       "      <th>tweet_location</th>\n",
       "      <th>user_timezone</th>\n",
       "    </tr>\n",
       "  </thead>\n",
       "  <tbody>\n",
       "    <tr>\n",
       "      <th>0</th>\n",
       "      <td>570306133677760513</td>\n",
       "      <td>neutral</td>\n",
       "      <td>1.0000</td>\n",
       "      <td>NaN</td>\n",
       "      <td>NaN</td>\n",
       "      <td>Virgin America</td>\n",
       "      <td>NaN</td>\n",
       "      <td>cairdin</td>\n",
       "      <td>NaN</td>\n",
       "      <td>0</td>\n",
       "      <td>@VirginAmerica What @dhepburn said.</td>\n",
       "      <td>NaN</td>\n",
       "      <td>2015-02-24 11:35:52 -0800</td>\n",
       "      <td>NaN</td>\n",
       "      <td>Eastern Time (US &amp; Canada)</td>\n",
       "    </tr>\n",
       "    <tr>\n",
       "      <th>1</th>\n",
       "      <td>570301130888122368</td>\n",
       "      <td>positive</td>\n",
       "      <td>0.3486</td>\n",
       "      <td>NaN</td>\n",
       "      <td>0.0000</td>\n",
       "      <td>Virgin America</td>\n",
       "      <td>NaN</td>\n",
       "      <td>jnardino</td>\n",
       "      <td>NaN</td>\n",
       "      <td>0</td>\n",
       "      <td>@VirginAmerica plus you've added commercials t...</td>\n",
       "      <td>NaN</td>\n",
       "      <td>2015-02-24 11:15:59 -0800</td>\n",
       "      <td>NaN</td>\n",
       "      <td>Pacific Time (US &amp; Canada)</td>\n",
       "    </tr>\n",
       "    <tr>\n",
       "      <th>2</th>\n",
       "      <td>570301083672813571</td>\n",
       "      <td>neutral</td>\n",
       "      <td>0.6837</td>\n",
       "      <td>NaN</td>\n",
       "      <td>NaN</td>\n",
       "      <td>Virgin America</td>\n",
       "      <td>NaN</td>\n",
       "      <td>yvonnalynn</td>\n",
       "      <td>NaN</td>\n",
       "      <td>0</td>\n",
       "      <td>@VirginAmerica I didn't today... Must mean I n...</td>\n",
       "      <td>NaN</td>\n",
       "      <td>2015-02-24 11:15:48 -0800</td>\n",
       "      <td>Lets Play</td>\n",
       "      <td>Central Time (US &amp; Canada)</td>\n",
       "    </tr>\n",
       "    <tr>\n",
       "      <th>3</th>\n",
       "      <td>570301031407624196</td>\n",
       "      <td>negative</td>\n",
       "      <td>1.0000</td>\n",
       "      <td>Bad Flight</td>\n",
       "      <td>0.7033</td>\n",
       "      <td>Virgin America</td>\n",
       "      <td>NaN</td>\n",
       "      <td>jnardino</td>\n",
       "      <td>NaN</td>\n",
       "      <td>0</td>\n",
       "      <td>@VirginAmerica it's really aggressive to blast...</td>\n",
       "      <td>NaN</td>\n",
       "      <td>2015-02-24 11:15:36 -0800</td>\n",
       "      <td>NaN</td>\n",
       "      <td>Pacific Time (US &amp; Canada)</td>\n",
       "    </tr>\n",
       "    <tr>\n",
       "      <th>4</th>\n",
       "      <td>570300817074462722</td>\n",
       "      <td>negative</td>\n",
       "      <td>1.0000</td>\n",
       "      <td>Can't Tell</td>\n",
       "      <td>1.0000</td>\n",
       "      <td>Virgin America</td>\n",
       "      <td>NaN</td>\n",
       "      <td>jnardino</td>\n",
       "      <td>NaN</td>\n",
       "      <td>0</td>\n",
       "      <td>@VirginAmerica and it's a really big bad thing...</td>\n",
       "      <td>NaN</td>\n",
       "      <td>2015-02-24 11:14:45 -0800</td>\n",
       "      <td>NaN</td>\n",
       "      <td>Pacific Time (US &amp; Canada)</td>\n",
       "    </tr>\n",
       "  </tbody>\n",
       "</table>\n",
       "</div>"
      ],
      "text/plain": [
       "             tweet_id airline_sentiment  airline_sentiment_confidence  \\\n",
       "0  570306133677760513           neutral                        1.0000   \n",
       "1  570301130888122368          positive                        0.3486   \n",
       "2  570301083672813571           neutral                        0.6837   \n",
       "3  570301031407624196          negative                        1.0000   \n",
       "4  570300817074462722          negative                        1.0000   \n",
       "\n",
       "  negativereason  negativereason_confidence         airline  \\\n",
       "0            NaN                        NaN  Virgin America   \n",
       "1            NaN                     0.0000  Virgin America   \n",
       "2            NaN                        NaN  Virgin America   \n",
       "3     Bad Flight                     0.7033  Virgin America   \n",
       "4     Can't Tell                     1.0000  Virgin America   \n",
       "\n",
       "  airline_sentiment_gold        name negativereason_gold  retweet_count  \\\n",
       "0                    NaN     cairdin                 NaN              0   \n",
       "1                    NaN    jnardino                 NaN              0   \n",
       "2                    NaN  yvonnalynn                 NaN              0   \n",
       "3                    NaN    jnardino                 NaN              0   \n",
       "4                    NaN    jnardino                 NaN              0   \n",
       "\n",
       "                                                text tweet_coord  \\\n",
       "0                @VirginAmerica What @dhepburn said.         NaN   \n",
       "1  @VirginAmerica plus you've added commercials t...         NaN   \n",
       "2  @VirginAmerica I didn't today... Must mean I n...         NaN   \n",
       "3  @VirginAmerica it's really aggressive to blast...         NaN   \n",
       "4  @VirginAmerica and it's a really big bad thing...         NaN   \n",
       "\n",
       "               tweet_created tweet_location               user_timezone  \n",
       "0  2015-02-24 11:35:52 -0800            NaN  Eastern Time (US & Canada)  \n",
       "1  2015-02-24 11:15:59 -0800            NaN  Pacific Time (US & Canada)  \n",
       "2  2015-02-24 11:15:48 -0800      Lets Play  Central Time (US & Canada)  \n",
       "3  2015-02-24 11:15:36 -0800            NaN  Pacific Time (US & Canada)  \n",
       "4  2015-02-24 11:14:45 -0800            NaN  Pacific Time (US & Canada)  "
      ]
     },
     "execution_count": 2,
     "metadata": {},
     "output_type": "execute_result"
    }
   ],
   "source": [
    "df = pd.read_csv('D:/ML Projects/NLP/US airlines Twitter Sentiment/Tweets.csv')\n",
    "df.head()"
   ]
  },
  {
   "cell_type": "code",
   "execution_count": 3,
   "metadata": {
    "execution": {
     "iopub.execute_input": "2021-11-26T11:42:47.648584Z",
     "iopub.status.busy": "2021-11-26T11:42:47.648208Z",
     "iopub.status.idle": "2021-11-26T11:42:47.656832Z",
     "shell.execute_reply": "2021-11-26T11:42:47.655594Z",
     "shell.execute_reply.started": "2021-11-26T11:42:47.648532Z"
    }
   },
   "outputs": [
    {
     "name": "stdout",
     "output_type": "stream",
     "text": [
      "(14640, 15)\n"
     ]
    }
   ],
   "source": [
    "print(df.shape)"
   ]
  },
  {
   "cell_type": "markdown",
   "metadata": {},
   "source": [
    "# Data visualization \n",
    "## Plotting bar graph for null entries "
   ]
  },
  {
   "cell_type": "code",
   "execution_count": 4,
   "metadata": {
    "execution": {
     "iopub.execute_input": "2021-11-26T11:42:47.659564Z",
     "iopub.status.busy": "2021-11-26T11:42:47.659186Z",
     "iopub.status.idle": "2021-11-26T11:42:47.683191Z",
     "shell.execute_reply": "2021-11-26T11:42:47.682355Z",
     "shell.execute_reply.started": "2021-11-26T11:42:47.659505Z"
    }
   },
   "outputs": [],
   "source": [
    "# Fetching null entries for each column in variable null_entries_each_col and column name\n",
    "columns = df.columns \n",
    "null_entries_each_col = list(df.isnull().sum())"
   ]
  },
  {
   "cell_type": "markdown",
   "metadata": {},
   "source": []
  },
  {
   "cell_type": "code",
   "execution_count": 5,
   "metadata": {
    "execution": {
     "iopub.execute_input": "2021-11-26T11:42:47.686188Z",
     "iopub.status.busy": "2021-11-26T11:42:47.685209Z",
     "iopub.status.idle": "2021-11-26T11:42:48.058139Z",
     "shell.execute_reply": "2021-11-26T11:42:48.057489Z",
     "shell.execute_reply.started": "2021-11-26T11:42:47.686145Z"
    }
   },
   "outputs": [
    {
     "data": {
      "text/plain": [
       "Text(0.5, 1.0, 'Null entries for each column')"
      ]
     },
     "execution_count": 5,
     "metadata": {},
     "output_type": "execute_result"
    },
    {
     "data": {
      "image/png": "[encoded data removed]",
      "text/plain": [
       "<Figure size 432x288 with 1 Axes>"
      ]
     },
     "metadata": {
      "needs_background": "light"
     },
     "output_type": "display_data"
    }
   ],
   "source": [
    "plt.bar(columns, null_entries_each_col, width = 0.5)\n",
    "plt.xticks(rotation = 90)\n",
    "plt.title(\"Null entries for each column\")"
   ]
  },
  {
   "cell_type": "markdown",
   "metadata": {},
   "source": [
    "## Counting count for each sentiment "
   ]
  },
  {
   "cell_type": "code",
   "execution_count": 6,
   "metadata": {
    "execution": {
     "iopub.execute_input": "2021-11-26T11:42:48.059628Z",
     "iopub.status.busy": "2021-11-26T11:42:48.059248Z",
     "iopub.status.idle": "2021-11-26T11:42:48.253479Z",
     "shell.execute_reply": "2021-11-26T11:42:48.252369Z",
     "shell.execute_reply.started": "2021-11-26T11:42:48.059573Z"
    }
   },
   "outputs": [
    {
     "name": "stdout",
     "output_type": "stream",
     "text": [
      "Total number of each sentiment\n",
      "negative    9178\n",
      "neutral     3099\n",
      "positive    2363\n",
      "Name: airline_sentiment, dtype: int64\n"
     ]
    },
    {
     "data": {
      "image/png": "[encoded data removed]",
      "text/plain": [
       "<Figure size 432x288 with 1 Axes>"
      ]
     },
     "metadata": {
      "needs_background": "light"
     },
     "output_type": "display_data"
    }
   ],
   "source": [
    "print(\"Total number of each sentiment\")\n",
    "print(df.airline_sentiment.value_counts())\n",
    "sentiment_list = list(df.airline_sentiment.value_counts().values) \n",
    "sentiments = list(set(df.airline_sentiment))\n",
    "plt.bar(sentiments,sentiment_list, color=[\"blue\",\"green\",\"red\"])\n",
    "plt.title(\"Total sentiment count for each sentiment\")\n",
    "plt.show()"
   ]
  },
  {
   "cell_type": "markdown",
   "metadata": {},
   "source": [
    "## Sentiment count on the bases of each airline "
   ]
  },
  {
   "cell_type": "code",
   "execution_count": 7,
   "metadata": {
    "execution": {
     "iopub.execute_input": "2021-11-26T11:42:48.255391Z",
     "iopub.status.busy": "2021-11-26T11:42:48.255039Z",
     "iopub.status.idle": "2021-11-26T11:42:48.527583Z",
     "shell.execute_reply": "2021-11-26T11:42:48.526659Z",
     "shell.execute_reply.started": "2021-11-26T11:42:48.255344Z"
    }
   },
   "outputs": [
    {
     "name": "stdout",
     "output_type": "stream",
     "text": [
      "Total sentiment per airline\n",
      "airline\n",
      "American          2759\n",
      "Delta             2222\n",
      "Southwest         2420\n",
      "US Airways        2913\n",
      "United            3822\n",
      "Virgin America     504\n",
      "Name: airline_sentiment, dtype: int64\n"
     ]
    },
    {
     "data": {
      "text/plain": [
       "Text(0.5, 1.0, 'Name vs sentiment ')"
      ]
     },
     "execution_count": 7,
     "metadata": {},
     "output_type": "execute_result"
    },
    {
     "data": {
      "image/png": "[encoded data removed]",
      "text/plain": [
       "<Figure size 720x576 with 1 Axes>"
      ]
     },
     "metadata": {
      "needs_background": "light"
     },
     "output_type": "display_data"
    }
   ],
   "source": [
    "print(\"Total sentiment per airline\")\n",
    "print(df.groupby('airline')['airline_sentiment'].count())\n",
    "airline_name = list(set(df['airline']))\n",
    "airline_sentiment_count = list(df.groupby('airline')['airline_sentiment'].count())\n",
    "\n",
    "plt.figure(figsize = (10, 8))\n",
    "plt.bar(airline_name,airline_sentiment_count,0.9)\n",
    "plt.title(\"Name vs sentiment \")\n"
   ]
  },
  {
   "cell_type": "markdown",
   "metadata": {},
   "source": []
  },
  {
   "cell_type": "code",
   "execution_count": 8,
   "metadata": {
    "execution": {
     "iopub.execute_input": "2021-11-26T11:42:48.529035Z",
     "iopub.status.busy": "2021-11-26T11:42:48.528800Z",
     "iopub.status.idle": "2021-11-26T11:42:48.553242Z",
     "shell.execute_reply": "2021-11-26T11:42:48.552156Z",
     "shell.execute_reply.started": "2021-11-26T11:42:48.529007Z"
    }
   },
   "outputs": [
    {
     "name": "stdout",
     "output_type": "stream",
     "text": [
      "airline         airline_sentiment\n",
      "American        negative             1960\n",
      "                neutral               463\n",
      "                positive              336\n",
      "Delta           negative              955\n",
      "                neutral               723\n",
      "                positive              544\n",
      "Southwest       negative             1186\n",
      "                neutral               664\n",
      "                positive              570\n",
      "US Airways      negative             2263\n",
      "                neutral               381\n",
      "                positive              269\n",
      "United          negative             2633\n",
      "                neutral               697\n",
      "                positive              492\n",
      "Virgin America  negative              181\n",
      "                neutral               171\n",
      "                positive              152\n",
      "Name: airline_sentiment, dtype: int64\n"
     ]
    }
   ],
   "source": [
    "print(df.groupby('airline')['airline_sentiment'].value_counts())\n",
    "count_per_airline = df.groupby('airline')['airline_sentiment'].value_counts()"
   ]
  },
  {
   "cell_type": "code",
   "execution_count": 9,
   "metadata": {
    "execution": {
     "iopub.execute_input": "2021-11-26T11:42:48.554804Z",
     "iopub.status.busy": "2021-11-26T11:42:48.554529Z",
     "iopub.status.idle": "2021-11-26T11:42:48.841697Z",
     "shell.execute_reply": "2021-11-26T11:42:48.840681Z",
     "shell.execute_reply.started": "2021-11-26T11:42:48.554773Z"
    }
   },
   "outputs": [
    {
     "name": "stdout",
     "output_type": "stream",
     "text": [
      "----------------------------\n",
      "['Delta', 'American', 'Virgin America', 'Southwest', 'United', 'US Airways']\n",
      "[955, 1960, 181, 1186, 2633, 2263]\n",
      "[723, 463, 171, 664, 697, 381]\n",
      "[544, 336, 152, 570, 492, 269]\n",
      "----------------------------\n"
     ]
    },
    {
     "data": {
      "image/png": "[encoded data removed]",
      "text/plain": [
       "<Figure size 720x576 with 1 Axes>"
      ]
     },
     "metadata": {
      "needs_background": "light"
     },
     "output_type": "display_data"
    }
   ],
   "source": [
    "positive = []\n",
    "negative = []\n",
    "neutral = []\n",
    "\n",
    "\n",
    "\n",
    "for airline in airline_name:\n",
    "    negative.append(count_per_airline[airline][\"negative\"])\n",
    "    positive.append(count_per_airline[airline][\"neutral\"])\n",
    "    neutral.append(count_per_airline[airline][\"positive\"])\n",
    "    \n",
    "    \n",
    "print(\"----------------------------\")    \n",
    "print(airline_name)\n",
    "print(negative)\n",
    "print(positive)\n",
    "print(neutral)\n",
    "print(\"----------------------------\")\n",
    "\n",
    "w = 0.3\n",
    "bar1 = np.arange(len(airline_name))\n",
    "bar2 = [i+w for i in bar1]\n",
    "bar3 = [i+w for i in bar2]\n",
    "\n",
    "plt.figure(figsize = (10, 8))\n",
    "plt.bar(bar1, negative, width = w, label=\"negative\",color = \"red\")\n",
    "plt.bar(bar2, positive,width = w, label=\"positive\", color = \"green\")\n",
    "plt.bar(bar3, neutral,width = w, label=\"neutral\", color = \"blue\")\n",
    "plt.xlabel(\"Airlines\")\n",
    "plt.ylabel(\"Count\")\n",
    "plt.xticks(bar1+w,airline_name)\n",
    "plt.legend()\n",
    "plt.show()\n",
    "\n"
   ]
  },
  {
   "cell_type": "code",
   "execution_count": 10,
   "metadata": {
    "execution": {
     "iopub.execute_input": "2021-11-26T11:42:48.844195Z",
     "iopub.status.busy": "2021-11-26T11:42:48.843491Z",
     "iopub.status.idle": "2021-11-26T11:42:49.325055Z",
     "shell.execute_reply": "2021-11-26T11:42:49.324011Z",
     "shell.execute_reply.started": "2021-11-26T11:42:48.844153Z"
    }
   },
   "outputs": [
    {
     "data": {
      "image/png": "[encoded data removed]",
      "text/plain": [
       "<Figure size 936x360 with 6 Axes>"
      ]
     },
     "metadata": {},
     "output_type": "display_data"
    }
   ],
   "source": [
    "plt.figure(2, figsize = (13,5))\n",
    "for i in airline_name:\n",
    "    index = airline_name.index(i)\n",
    "    plt.subplot(2,3, index+1)\n",
    "    plt.subplots_adjust(hspace=0.5)\n",
    "    \n",
    "    data = [count_per_airline[i][\"neutral\"],count_per_airline[i][\"positive\"],count_per_airline[i][\"negative\"]]\n",
    "    plt.pie(data, labels = sentiments,colors = [\"blue\",\"green\",\"red\"])\n",
    "    plt.title(i)"
   ]
  },
  {
   "cell_type": "markdown",
   "metadata": {},
   "source": [
    "## Reason for negative tweets "
   ]
  },
  {
   "cell_type": "code",
   "execution_count": 11,
   "metadata": {
    "execution": {
     "iopub.execute_input": "2021-11-26T11:42:49.327408Z",
     "iopub.status.busy": "2021-11-26T11:42:49.326855Z",
     "iopub.status.idle": "2021-11-26T11:42:49.630401Z",
     "shell.execute_reply": "2021-11-26T11:42:49.629529Z",
     "shell.execute_reply.started": "2021-11-26T11:42:49.327368Z"
    }
   },
   "outputs": [
    {
     "name": "stdout",
     "output_type": "stream",
     "text": [
      "Reasons for negative tweets\n",
      "Customer Service Issue         2910\n",
      "Late Flight                    1665\n",
      "Can't Tell                     1190\n",
      "Cancelled Flight                847\n",
      "Lost Luggage                    724\n",
      "Bad Flight                      580\n",
      "Flight Booking Problems         529\n",
      "Flight Attendant Complaints     481\n",
      "longlines                       178\n",
      "Damaged Luggage                  74\n",
      "Name: negativereason, dtype: int64\n"
     ]
    },
    {
     "data": {
      "text/plain": [
       "([0, 1, 2, 3, 4, 5, 6, 7, 8, 9], <a list of 10 Text major ticklabel objects>)"
      ]
     },
     "execution_count": 11,
     "metadata": {},
     "output_type": "execute_result"
    },
    {
     "data": {
      "image/png": "[encoded data removed]",
      "text/plain": [
       "<Figure size 720x576 with 1 Axes>"
      ]
     },
     "metadata": {
      "needs_background": "light"
     },
     "output_type": "display_data"
    }
   ],
   "source": [
    "#Overall count for negative tweets \n",
    "print(\"Reasons for negative tweets\")\n",
    "print(df.negativereason.value_counts())\n",
    "\n",
    "reasons_for_negative = list(df.negativereason.value_counts().keys())\n",
    "count_for_negative = list(df.negativereason.value_counts().values)\n",
    "#print(reasons_for_negative)\n",
    "#print(count_for_negative)\n",
    "plt.figure(figsize = (10, 8))\n",
    "plt.bar(reasons_for_negative,count_for_negative)\n",
    "plt.xticks(rotation = 90)"
   ]
  },
  {
   "cell_type": "markdown",
   "metadata": {},
   "source": []
  },
  {
   "cell_type": "code",
   "execution_count": 12,
   "metadata": {
    "execution": {
     "iopub.execute_input": "2021-11-26T11:42:49.632802Z",
     "iopub.status.busy": "2021-11-26T11:42:49.631889Z",
     "iopub.status.idle": "2021-11-26T11:42:51.309329Z",
     "shell.execute_reply": "2021-11-26T11:42:51.308354Z",
     "shell.execute_reply.started": "2021-11-26T11:42:49.632749Z"
    }
   },
   "outputs": [
    {
     "name": "stdout",
     "output_type": "stream",
     "text": [
      "airline         negativereason             \n",
      "American        Customer Service Issue         768\n",
      "                Late Flight                    249\n",
      "                Cancelled Flight               246\n",
      "                Can't Tell                     198\n",
      "                Lost Luggage                   149\n",
      "                Flight Booking Problems        130\n",
      "                Bad Flight                      87\n",
      "                Flight Attendant Complaints     87\n",
      "                longlines                       34\n",
      "                Damaged Luggage                 12\n",
      "Delta           Late Flight                    269\n",
      "                Customer Service Issue         199\n",
      "                Can't Tell                     186\n",
      "                Bad Flight                      64\n",
      "                Flight Attendant Complaints     60\n",
      "                Lost Luggage                    57\n",
      "                Cancelled Flight                51\n",
      "                Flight Booking Problems         44\n",
      "                longlines                       14\n",
      "                Damaged Luggage                 11\n",
      "Southwest       Customer Service Issue         391\n",
      "                Cancelled Flight               162\n",
      "                Can't Tell                     159\n",
      "                Late Flight                    152\n",
      "                Bad Flight                      90\n",
      "                Lost Luggage                    90\n",
      "                Flight Booking Problems         61\n",
      "                Flight Attendant Complaints     38\n",
      "                longlines                       29\n",
      "                Damaged Luggage                 14\n",
      "US Airways      Customer Service Issue         811\n",
      "                Late Flight                    453\n",
      "                Can't Tell                     246\n",
      "                Cancelled Flight               189\n",
      "                Lost Luggage                   154\n",
      "                Flight Attendant Complaints    123\n",
      "                Flight Booking Problems        122\n",
      "                Bad Flight                     104\n",
      "                longlines                       50\n",
      "                Damaged Luggage                 11\n",
      "United          Customer Service Issue         681\n",
      "                Late Flight                    525\n",
      "                Can't Tell                     379\n",
      "                Lost Luggage                   269\n",
      "                Bad Flight                     216\n",
      "                Cancelled Flight               181\n",
      "                Flight Attendant Complaints    168\n",
      "                Flight Booking Problems        144\n",
      "                longlines                       48\n",
      "                Damaged Luggage                 22\n",
      "Virgin America  Customer Service Issue          60\n",
      "                Flight Booking Problems         28\n",
      "                Can't Tell                      22\n",
      "                Bad Flight                      19\n",
      "                Cancelled Flight                18\n",
      "                Late Flight                     17\n",
      "                Flight Attendant Complaints      5\n",
      "                Lost Luggage                     5\n",
      "                Damaged Luggage                  4\n",
      "                longlines                        3\n",
      "Name: negativereason, dtype: int64\n",
      "**************************************************\n",
      "PLOT FOR INDIVIDUAL AIRLINE\n"
     ]
    },
    {
     "data": {
      "image/png": "[encoded data removed]",
      "text/plain": [
       "<Figure size 936x936 with 6 Axes>"
      ]
     },
     "metadata": {
      "needs_background": "light"
     },
     "output_type": "display_data"
    }
   ],
   "source": [
    "# Airline wise count for negative tweets \n",
    "print(df.groupby('airline')['negativereason'].value_counts())\n",
    "negative_reason_airline = df.groupby('airline')['negativereason'].value_counts()\n",
    "print(\"**************************************************\")\n",
    "print(\"PLOT FOR INDIVIDUAL AIRLINE\")\n",
    "plt.figure(2,figsize = (13,13))\n",
    "for airline in airline_name:\n",
    "    index = airline_name.index(airline)\n",
    "    plt.subplot(2,3,index+1)\n",
    "    plt.subplots_adjust(hspace = 0.9)\n",
    "    \n",
    "    individual_negative = negative_reason_airline[airline]\n",
    "    x_values = list(individual_negative.keys())\n",
    "    y_values = list(individual_negative.values)\n",
    "    plt.bar(x_values, y_values,label = airline )\n",
    "    plt.xticks(rotation = 90)\n",
    "    plt.title(airline)"
   ]
  },
  {
   "cell_type": "markdown",
   "metadata": {},
   "source": [
    "# Text Cleaning and preprocessing "
   ]
  },
  {
   "cell_type": "markdown",
   "metadata": {},
   "source": []
  },
  {
   "cell_type": "code",
   "execution_count": 13,
   "metadata": {
    "execution": {
     "iopub.execute_input": "2021-11-26T11:42:51.311335Z",
     "iopub.status.busy": "2021-11-26T11:42:51.310978Z",
     "iopub.status.idle": "2021-11-26T11:42:51.323818Z",
     "shell.execute_reply": "2021-11-26T11:42:51.322669Z",
     "shell.execute_reply.started": "2021-11-26T11:42:51.311284Z"
    }
   },
   "outputs": [
    {
     "name": "stdout",
     "output_type": "stream",
     "text": [
      "BEFORE\n"
     ]
    },
    {
     "data": {
      "text/plain": [
       "0     neutral\n",
       "1    positive\n",
       "2     neutral\n",
       "3    negative\n",
       "4    negative\n",
       "5    negative\n",
       "6    positive\n",
       "7     neutral\n",
       "8    positive\n",
       "9    positive\n",
       "Name: airline_sentiment, dtype: object"
      ]
     },
     "execution_count": 13,
     "metadata": {},
     "output_type": "execute_result"
    }
   ],
   "source": [
    "def convert_sentiment(x):\n",
    "    if x[\"airline_sentiment\"] == 'positive':\n",
    "        return 0\n",
    "    elif x[\"airline_sentiment\"] == 'negative':\n",
    "        return 1\n",
    "    elif x[\"airline_sentiment\"] == 'neutral':\n",
    "        return 2\n",
    "\n",
    "print(\"BEFORE\")\n",
    "df.airline_sentiment[0:10]"
   ]
  },
  {
   "cell_type": "code",
   "execution_count": 14,
   "metadata": {
    "execution": {
     "iopub.execute_input": "2021-11-26T11:42:51.329568Z",
     "iopub.status.busy": "2021-11-26T11:42:51.329271Z",
     "iopub.status.idle": "2021-11-26T11:42:51.629552Z",
     "shell.execute_reply": "2021-11-26T11:42:51.628676Z",
     "shell.execute_reply.started": "2021-11-26T11:42:51.329534Z"
    }
   },
   "outputs": [
    {
     "name": "stdout",
     "output_type": "stream",
     "text": [
      "AFTER\n"
     ]
    },
    {
     "data": {
      "text/plain": [
       "0    2\n",
       "1    0\n",
       "2    2\n",
       "3    1\n",
       "4    1\n",
       "5    1\n",
       "6    0\n",
       "7    2\n",
       "8    0\n",
       "9    0\n",
       "Name: airline_sentiment, dtype: int64"
      ]
     },
     "execution_count": 14,
     "metadata": {},
     "output_type": "execute_result"
    }
   ],
   "source": [
    "df[\"airline_sentiment\"] = df.apply(convert_sentiment,axis = 1)\n",
    "print(\"AFTER\")\n",
    "df.airline_sentiment[0:10] "
   ]
  },
  {
   "cell_type": "code",
   "execution_count": 22,
   "metadata": {},
   "outputs": [
    {
     "name": "stderr",
     "output_type": "stream",
     "text": [
      "[nltk_data] Downloading package stopwords to\n",
      "[nltk_data]     C:\\Users\\w530\\AppData\\Roaming\\nltk_data...\n",
      "[nltk_data]   Unzipping corpora\\stopwords.zip.\n"
     ]
    },
    {
     "data": {
      "text/plain": [
       "True"
      ]
     },
     "execution_count": 22,
     "metadata": {},
     "output_type": "execute_result"
    }
   ],
   "source": [
    "import nltk\n",
    "nltk.download('stopwords')"
   ]
  },
  {
   "cell_type": "code",
   "execution_count": 23,
   "metadata": {
    "execution": {
     "iopub.execute_input": "2021-11-26T11:42:51.632153Z",
     "iopub.status.busy": "2021-11-26T11:42:51.631802Z",
     "iopub.status.idle": "2021-11-26T11:42:55.568527Z",
     "shell.execute_reply": "2021-11-26T11:42:55.567802Z",
     "shell.execute_reply.started": "2021-11-26T11:42:51.632103Z"
    }
   },
   "outputs": [],
   "source": [
    "# This cell of code is taken from the community of kaggle \n",
    "def remove_stopwords_punct(row):\n",
    "    stop_words = stopwords.words('english')\n",
    "    punctuation = list(string.punctuation)\n",
    "    stop = stop_words+punctuation  \n",
    "    \n",
    "    text = ' '.join([word for word in row.split() if word.lower() not in stop])\n",
    "    return text\n",
    "\n",
    "def remove_url_username(row):\n",
    "    url = re.compile(r'https?://\\S+|www\\.\\S+')\n",
    "    text = url.sub(r'',row)\n",
    "    text = re.sub('@[^\\s]+','',text)\n",
    "    return text\n",
    "\n",
    "def remove_html(row):\n",
    "    return re.sub(r'<.*?>',r'',row)\n",
    "\n",
    "def remove_emoji(row):\n",
    "    emoji_pattern = re.compile(\"[\"\n",
    "                               u\"\\U0001F600-\\U0001F64F\"  # emoticons\n",
    "                               u\"\\U0001F300-\\U0001F5FF\"  # symbols & pictographs\n",
    "                               u\"\\U0001F680-\\U0001F6FF\"  # transport & map symbols\n",
    "                               u\"\\U0001F1E0-\\U0001F1FF\"  # flags (iOS)\n",
    "                               u\"\\U00002702-\\U000027B0\"\n",
    "                               u\"\\U000024C2-\\U0001F251\"\n",
    "                               \"]+\", flags=re.UNICODE)\n",
    "        \n",
    "\n",
    "    return emoji_pattern.sub(r'', row)\n",
    "\n",
    "    \n",
    "def decontraction(row):\n",
    "    row = re.sub(r\"won\\'t\", \" will not\", row)\n",
    "    row = re.sub(r\"won\\'t've\", \" will not have\", row)\n",
    "    row = re.sub(r\"can\\'t\", \" can not\", row)\n",
    "    row = re.sub(r\"don\\'t\", \" do not\", row)\n",
    "    \n",
    "    row = re.sub(r\"can\\'t've\", \" can not have\", row)\n",
    "    row = re.sub(r\"ma\\'am\", \" madam\", row)\n",
    "    row = re.sub(r\"let\\'s\", \" let us\", row)\n",
    "    row = re.sub(r\"ain\\'t\", \" am not\", row)\n",
    "    row = re.sub(r\"shan\\'t\", \" shall not\", row)\n",
    "    row = re.sub(r\"sha\\n't\", \" shall not\", row)\n",
    "    row = re.sub(r\"o\\'clock\", \" of the clock\", row)\n",
    "    row = re.sub(r\"y\\'all\", \" you all\", row)\n",
    "    row = re.sub(r\"n\\'t\", \" not\", row)\n",
    "    row = re.sub(r\"n\\'t've\", \" not have\", row)\n",
    "    row = re.sub(r\"\\'re\", \" are\", row)\n",
    "    row = re.sub(r\"\\'s\", \" is\", row)\n",
    "    row = re.sub(r\"\\'d\", \" would\", row)\n",
    "    row = re.sub(r\"\\'d've\", \" would have\", row)\n",
    "    row = re.sub(r\"\\'ll\", \" will\", row)\n",
    "    row = re.sub(r\"\\'ll've\", \" will have\", row)\n",
    "    row = re.sub(r\"\\'t\", \" not\", row)\n",
    "    row = re.sub(r\"\\'ve\", \" have\", row)\n",
    "    row = re.sub(r\"\\'m\", \" am\", row)\n",
    "    row = re.sub(r\"\\'re\", \" are\", row)\n",
    "    return row\n",
    "\n",
    "def seperate_alphanumeric(row):\n",
    "    words = row\n",
    "    words = re.findall(r\"[^\\W\\d_]+|\\d+\", words)\n",
    "    return \" \".join(words)\n",
    "\n",
    "def cont_rep_char(row):\n",
    "    tchr = row.group(0) \n",
    "    \n",
    "    if len(tchr) > 1:\n",
    "        return tchr[0:2] \n",
    "\n",
    "def unique_char(rep, row):\n",
    "    substitute = re.sub(r'(\\w)\\1+', rep, row)\n",
    "    return substitute\n",
    "\n",
    "def char(row):\n",
    "    substitute = re.sub(r'[^a-zA-Z]',' ',row)\n",
    "    return substitute\n",
    "\n",
    "# combaine negative reason with  tweet (if exsist)\n",
    "df['final_text'] = df['negativereason'].fillna('') + ' ' + df['text'] \n",
    "\n",
    "\n",
    "# Apply functions on tweets\n",
    "df['final_text'] = df['final_text'].apply(lambda x : remove_url_username(x))\n",
    "df['final_text'] = df['final_text'].apply(lambda x : remove_emoji(x))\n",
    "df['final_text'] = df['final_text'].apply(lambda x : decontraction(x))\n",
    "df['final_text'] = df['final_text'].apply(lambda x : seperate_alphanumeric(x))\n",
    "df['final_text'] = df['final_text'].apply(lambda x : unique_char(cont_rep_char,x))\n",
    "df['final_text'] = df['final_text'].apply(lambda x : char(x))\n",
    "df['final_text'] = df['final_text'].apply(lambda x : remove_stopwords_punct(x))\n"
   ]
  },
  {
   "cell_type": "code",
   "execution_count": 24,
   "metadata": {
    "execution": {
     "iopub.execute_input": "2021-11-26T11:42:55.570341Z",
     "iopub.status.busy": "2021-11-26T11:42:55.569752Z",
     "iopub.status.idle": "2021-11-26T11:42:55.580760Z",
     "shell.execute_reply": "2021-11-26T11:42:55.579573Z",
     "shell.execute_reply.started": "2021-11-26T11:42:55.570302Z"
    }
   },
   "outputs": [
    {
     "data": {
      "text/plain": [
       "0                                                     said\n",
       "1                  plus added commercials experience tacky\n",
       "2                   today Must mean need take another trip\n",
       "3        Bad Flight really aggressive blast obnoxious e...\n",
       "4                             Ca Tell really big bad thing\n",
       "                               ...                        \n",
       "14635                   thank got different flight Chicago\n",
       "14636    Customer Service Issue leaving minutes Late Fl...\n",
       "14637            Please bring American Airlines BlackBerry\n",
       "14638    Customer Service Issue money change flight ans...\n",
       "14639    ppl need know many seats next flight Plz put u...\n",
       "Name: final_text, Length: 14640, dtype: object"
      ]
     },
     "execution_count": 24,
     "metadata": {},
     "output_type": "execute_result"
    }
   ],
   "source": [
    "df['final_text']\n"
   ]
  },
  {
   "cell_type": "markdown",
   "metadata": {},
   "source": [
    "## Using NLTK preprocessing kit \n"
   ]
  },
  {
   "cell_type": "code",
   "execution_count": 29,
   "metadata": {},
   "outputs": [
    {
     "name": "stderr",
     "output_type": "stream",
     "text": [
      "[nltk_data] Downloading package averaged_perceptron_tagger to\n",
      "[nltk_data]     C:\\Users\\w530\\AppData\\Roaming\\nltk_data...\n",
      "[nltk_data]   Unzipping taggers\\averaged_perceptron_tagger.zip.\n"
     ]
    },
    {
     "data": {
      "text/plain": [
       "True"
      ]
     },
     "execution_count": 29,
     "metadata": {},
     "output_type": "execute_result"
    }
   ],
   "source": [
    "import nltk\n",
    "nltk.download('averaged_perceptron_tagger')"
   ]
  },
  {
   "cell_type": "code",
   "execution_count": 34,
   "metadata": {},
   "outputs": [
    {
     "name": "stderr",
     "output_type": "stream",
     "text": [
      "[nltk_data] Downloading package wordnet to\n",
      "[nltk_data]     C:\\Users\\w530\\AppData\\Roaming\\nltk_data...\n",
      "[nltk_data]   Unzipping corpora\\wordnet.zip.\n"
     ]
    },
    {
     "data": {
      "text/plain": [
       "True"
      ]
     },
     "execution_count": 34,
     "metadata": {},
     "output_type": "execute_result"
    }
   ],
   "source": [
    "import nltk\n",
    "nltk.download('wordnet')"
   ]
  },
  {
   "cell_type": "code",
   "execution_count": 35,
   "metadata": {
    "execution": {
     "iopub.execute_input": "2021-11-26T11:42:55.582414Z",
     "iopub.status.busy": "2021-11-26T11:42:55.582185Z",
     "iopub.status.idle": "2021-11-26T11:42:55.631385Z",
     "shell.execute_reply": "2021-11-26T11:42:55.630468Z",
     "shell.execute_reply.started": "2021-11-26T11:42:55.582386Z"
    }
   },
   "outputs": [],
   "source": [
    "document = []\n",
    "for row, catagory in zip(df.final_text, df.airline_sentiment):\n",
    "    document.append((row.split(),catagory))\n",
    "    "
   ]
  },
  {
   "cell_type": "code",
   "execution_count": 36,
   "metadata": {
    "execution": {
     "iopub.execute_input": "2021-11-26T11:42:55.633144Z",
     "iopub.status.busy": "2021-11-26T11:42:55.632884Z",
     "iopub.status.idle": "2021-11-26T11:42:55.640188Z",
     "shell.execute_reply": "2021-11-26T11:42:55.639241Z",
     "shell.execute_reply.started": "2021-11-26T11:42:55.633114Z"
    }
   },
   "outputs": [],
   "source": [
    "lemmatizer = WordNetLemmatizer()\n",
    "def get_simple_pos(tag):\n",
    "    \n",
    "    if tag.startswith('J'):\n",
    "        return wordnet.ADJ\n",
    "    elif tag.startswith('V'):\n",
    "        return wordnet.VERB\n",
    "    elif tag.startswith('N'):\n",
    "        return wordnet.NOUN\n",
    "    elif tag.startswith('R'):\n",
    "        return wordnet.ADV\n",
    "    else:\n",
    "        return wordnet.NOUN"
   ]
  },
  {
   "cell_type": "code",
   "execution_count": 37,
   "metadata": {
    "execution": {
     "iopub.execute_input": "2021-11-26T11:42:55.642780Z",
     "iopub.status.busy": "2021-11-26T11:42:55.641852Z",
     "iopub.status.idle": "2021-11-26T11:42:55.651622Z",
     "shell.execute_reply": "2021-11-26T11:42:55.650950Z",
     "shell.execute_reply.started": "2021-11-26T11:42:55.642731Z"
    }
   },
   "outputs": [],
   "source": [
    "def clean_review(words):\n",
    "    output_words = []\n",
    "    for w in words:\n",
    "       \n",
    "        pos = pos_tag([w])\n",
    "        clean_word = lemmatizer.lemmatize(w, pos = get_simple_pos(pos[0][1]))\n",
    "        output_words.append(clean_word.lower())\n",
    "    return output_words"
   ]
  },
  {
   "cell_type": "code",
   "execution_count": 38,
   "metadata": {
    "execution": {
     "iopub.execute_input": "2021-11-26T11:42:55.653811Z",
     "iopub.status.busy": "2021-11-26T11:42:55.653211Z",
     "iopub.status.idle": "2021-11-26T11:43:25.600171Z",
     "shell.execute_reply": "2021-11-26T11:43:25.598976Z",
     "shell.execute_reply.started": "2021-11-26T11:42:55.653591Z"
    }
   },
   "outputs": [],
   "source": [
    "document = [(clean_review(document), category) for document, category in document]"
   ]
  },
  {
   "cell_type": "code",
   "execution_count": 39,
   "metadata": {
    "execution": {
     "iopub.execute_input": "2021-11-26T11:43:25.602109Z",
     "iopub.status.busy": "2021-11-26T11:43:25.601771Z",
     "iopub.status.idle": "2021-11-26T11:43:25.630838Z",
     "shell.execute_reply": "2021-11-26T11:43:25.629898Z",
     "shell.execute_reply.started": "2021-11-26T11:43:25.602065Z"
    }
   },
   "outputs": [
    {
     "data": {
      "text/plain": [
       "[(['ca',\n",
       "   'tell',\n",
       "   'crew',\n",
       "   'best',\n",
       "   'could',\n",
       "   'control',\n",
       "   'get',\n",
       "   'one',\n",
       "   'chance',\n",
       "   'honeymoon',\n",
       "   'amp',\n",
       "   'fail',\n",
       "   'miserably'],\n",
       "  1),\n",
       " (['customer',\n",
       "   'service',\n",
       "   'issue',\n",
       "   'hey',\n",
       "   'tried',\n",
       "   'call',\n",
       "   'customer',\n",
       "   'service',\n",
       "   'told',\n",
       "   'hour',\n",
       "   'wait',\n",
       "   'past',\n",
       "   'hour',\n",
       "   'thanks',\n",
       "   'suck'],\n",
       "  1),\n",
       " (['customer',\n",
       "   'service',\n",
       "   'issue',\n",
       "   'yes',\n",
       "   'could',\n",
       "   'explain',\n",
       "   'hour',\n",
       "   'minute',\n",
       "   'hold',\n",
       "   'time'],\n",
       "  1),\n",
       " (['great',\n",
       "   'flight',\n",
       "   'yesterday',\n",
       "   'msy',\n",
       "   'aus',\n",
       "   'thank',\n",
       "   'great',\n",
       "   'safety',\n",
       "   'service',\n",
       "   'beautiful',\n",
       "   'sky'],\n",
       "  0),\n",
       " (['customer', 'service', 'issue', 'still', 'cricket', 'customer', 'service'],\n",
       "  1)]"
      ]
     },
     "execution_count": 39,
     "metadata": {},
     "output_type": "execute_result"
    }
   ],
   "source": [
    "import random\n",
    "random.shuffle(document)\n",
    "document[0:5]"
   ]
  },
  {
   "cell_type": "markdown",
   "metadata": {},
   "source": [
    "# Splitting data, extracting features and Applying classifiers from nltk and sklearn "
   ]
  },
  {
   "cell_type": "markdown",
   "metadata": {},
   "source": [
    "## In the trailing lines I'll use nltk classifier to train the data and hence the data is designed on the base of the requirenment of nltk classifier."
   ]
  },
  {
   "cell_type": "code",
   "execution_count": 40,
   "metadata": {
    "execution": {
     "iopub.execute_input": "2021-11-26T11:43:25.632826Z",
     "iopub.status.busy": "2021-11-26T11:43:25.632554Z",
     "iopub.status.idle": "2021-11-26T11:43:25.644070Z",
     "shell.execute_reply": "2021-11-26T11:43:25.643192Z",
     "shell.execute_reply.started": "2021-11-26T11:43:25.632795Z"
    }
   },
   "outputs": [
    {
     "name": "stdout",
     "output_type": "stream",
     "text": [
      "14640\n"
     ]
    }
   ],
   "source": [
    " \n",
    "print(len(document))"
   ]
  },
  {
   "cell_type": "code",
   "execution_count": 41,
   "metadata": {
    "execution": {
     "iopub.execute_input": "2021-11-26T11:43:25.646195Z",
     "iopub.status.busy": "2021-11-26T11:43:25.645685Z",
     "iopub.status.idle": "2021-11-26T11:43:25.658257Z",
     "shell.execute_reply": "2021-11-26T11:43:25.657211Z",
     "shell.execute_reply.started": "2021-11-26T11:43:25.646156Z"
    }
   },
   "outputs": [],
   "source": [
    "#Splitting for train and test \n",
    "training_data = document[:13000]\n",
    "testing_data = document[13000:]"
   ]
  },
  {
   "cell_type": "code",
   "execution_count": 42,
   "metadata": {
    "execution": {
     "iopub.execute_input": "2021-11-26T11:43:25.660440Z",
     "iopub.status.busy": "2021-11-26T11:43:25.659839Z",
     "iopub.status.idle": "2021-11-26T11:43:25.826442Z",
     "shell.execute_reply": "2021-11-26T11:43:25.825476Z",
     "shell.execute_reply.started": "2021-11-26T11:43:25.660401Z"
    }
   },
   "outputs": [],
   "source": [
    "#Extracting features\n",
    "words = []\n",
    "for data in training_data:\n",
    "    words += data[0]\n",
    "    \n",
    "freq = nltk.FreqDist(words)\n",
    "common = freq.most_common(3000)\n",
    "features = [i[0] for i in common]\n"
   ]
  },
  {
   "cell_type": "code",
   "execution_count": 43,
   "metadata": {
    "execution": {
     "iopub.execute_input": "2021-11-26T11:43:25.828137Z",
     "iopub.status.busy": "2021-11-26T11:43:25.827863Z",
     "iopub.status.idle": "2021-11-26T11:43:25.833297Z",
     "shell.execute_reply": "2021-11-26T11:43:25.832345Z",
     "shell.execute_reply.started": "2021-11-26T11:43:25.828098Z"
    }
   },
   "outputs": [],
   "source": [
    "#creating feature dictionary \n",
    "def feature_dictionary(row):\n",
    "    feature_dict = {}\n",
    "    words = set(row)\n",
    "    for w in features:\n",
    "        feature_dict[w] = w in words\n",
    "    return feature_dict "
   ]
  },
  {
   "cell_type": "code",
   "execution_count": 44,
   "metadata": {
    "execution": {
     "iopub.execute_input": "2021-11-26T11:43:25.836736Z",
     "iopub.status.busy": "2021-11-26T11:43:25.835814Z",
     "iopub.status.idle": "2021-11-26T11:43:34.425893Z",
     "shell.execute_reply": "2021-11-26T11:43:34.424905Z",
     "shell.execute_reply.started": "2021-11-26T11:43:25.836686Z"
    }
   },
   "outputs": [],
   "source": [
    "training_data = [(feature_dictionary(doc), catagory) for doc, catagory in training_data]\n",
    "testing_data =  [(feature_dictionary(doc), catagory) for doc, catagory in testing_data] "
   ]
  },
  {
   "cell_type": "code",
   "execution_count": 45,
   "metadata": {
    "execution": {
     "iopub.execute_input": "2021-11-26T11:43:34.427807Z",
     "iopub.status.busy": "2021-11-26T11:43:34.427445Z",
     "iopub.status.idle": "2021-11-26T11:43:34.432626Z",
     "shell.execute_reply": "2021-11-26T11:43:34.431641Z",
     "shell.execute_reply.started": "2021-11-26T11:43:34.427760Z"
    }
   },
   "outputs": [],
   "source": [
    "#training_data[0]"
   ]
  },
  {
   "cell_type": "code",
   "execution_count": 46,
   "metadata": {
    "execution": {
     "iopub.execute_input": "2021-11-26T11:43:34.434592Z",
     "iopub.status.busy": "2021-11-26T11:43:34.434258Z",
     "iopub.status.idle": "2021-11-26T11:45:34.550857Z",
     "shell.execute_reply": "2021-11-26T11:45:34.549884Z",
     "shell.execute_reply.started": "2021-11-26T11:43:34.434548Z"
    }
   },
   "outputs": [
    {
     "data": {
      "text/plain": [
       "0.8884146341463415"
      ]
     },
     "execution_count": 46,
     "metadata": {},
     "output_type": "execute_result"
    }
   ],
   "source": [
    "classifier = NaiveBayesClassifier.train(training_data)\n",
    "nltk.classify.accuracy(classifier,testing_data)"
   ]
  },
  {
   "cell_type": "code",
   "execution_count": 47,
   "metadata": {
    "execution": {
     "iopub.execute_input": "2021-11-26T11:45:34.552370Z",
     "iopub.status.busy": "2021-11-26T11:45:34.552136Z",
     "iopub.status.idle": "2021-11-26T11:45:34.630125Z",
     "shell.execute_reply": "2021-11-26T11:45:34.628689Z",
     "shell.execute_reply.started": "2021-11-26T11:45:34.552342Z"
    }
   },
   "outputs": [
    {
     "name": "stdout",
     "output_type": "stream",
     "text": [
      "Most Informative Features\n",
      "                    lost = True                1 : 2      =    146.6 : 1.0\n",
      "                   issue = True                1 : 2      =     47.1 : 1.0\n",
      "                     bad = True                1 : 2      =     37.0 : 1.0\n",
      "                    tell = True                1 : 0      =     36.8 : 1.0\n",
      "                favorite = True                0 : 1      =     36.8 : 1.0\n",
      "                passbook = True                0 : 1      =     36.8 : 1.0\n",
      "                  street = True                2 : 1      =     36.4 : 1.0\n",
      "                   kudos = True                0 : 1      =     35.8 : 1.0\n",
      "                 amazing = True                0 : 1      =     31.7 : 1.0\n",
      "                 luggage = True                1 : 0      =     30.6 : 1.0\n",
      "                 helpful = True                0 : 2      =     30.6 : 1.0\n",
      "                customer = True                1 : 2      =     30.4 : 1.0\n",
      "                      ca = True                1 : 2      =     29.9 : 1.0\n",
      "               beautiful = True                0 : 1      =     29.2 : 1.0\n",
      "             outstanding = True                0 : 1      =     29.2 : 1.0\n"
     ]
    }
   ],
   "source": [
    "classifier.show_most_informative_features(15)"
   ]
  },
  {
   "cell_type": "markdown",
   "metadata": {},
   "source": [
    "## Running sklearn classifier on the training_data that I've designed for nltk classifier using nltk dummy over sklearn classifier "
   ]
  },
  {
   "cell_type": "code",
   "execution_count": 48,
   "metadata": {
    "execution": {
     "iopub.execute_input": "2021-11-26T11:45:34.631764Z",
     "iopub.status.busy": "2021-11-26T11:45:34.631482Z",
     "iopub.status.idle": "2021-11-26T11:45:34.636983Z",
     "shell.execute_reply": "2021-11-26T11:45:34.636084Z",
     "shell.execute_reply.started": "2021-11-26T11:45:34.631731Z"
    }
   },
   "outputs": [],
   "source": [
    "#Importing necessary modules \n",
    "from sklearn.svm import SVC\n",
    "from nltk.classify.scikitlearn import SklearnClassifier"
   ]
  },
  {
   "cell_type": "code",
   "execution_count": 49,
   "metadata": {
    "execution": {
     "iopub.execute_input": "2021-11-26T11:45:34.639190Z",
     "iopub.status.busy": "2021-11-26T11:45:34.638784Z",
     "iopub.status.idle": "2021-11-26T11:45:34.648813Z",
     "shell.execute_reply": "2021-11-26T11:45:34.648148Z",
     "shell.execute_reply.started": "2021-11-26T11:45:34.639142Z"
    }
   },
   "outputs": [],
   "source": [
    "svc = SVC()\n",
    "classifier_sklearn = SklearnClassifier(svc)"
   ]
  },
  {
   "cell_type": "code",
   "execution_count": 50,
   "metadata": {
    "execution": {
     "iopub.execute_input": "2021-11-26T11:45:34.650919Z",
     "iopub.status.busy": "2021-11-26T11:45:34.650088Z",
     "iopub.status.idle": "2021-11-26T11:59:31.617512Z",
     "shell.execute_reply": "2021-11-26T11:59:31.616366Z",
     "shell.execute_reply.started": "2021-11-26T11:45:34.650866Z"
    }
   },
   "outputs": [
    {
     "data": {
      "text/plain": [
       "<SklearnClassifier(SVC())>"
      ]
     },
     "execution_count": 50,
     "metadata": {},
     "output_type": "execute_result"
    }
   ],
   "source": [
    "classifier_sklearn.train(training_data)"
   ]
  },
  {
   "cell_type": "code",
   "execution_count": 51,
   "metadata": {
    "execution": {
     "iopub.execute_input": "2021-11-26T11:59:31.620731Z",
     "iopub.status.busy": "2021-11-26T11:59:31.619539Z",
     "iopub.status.idle": "2021-11-26T12:01:17.562140Z",
     "shell.execute_reply": "2021-11-26T12:01:17.561154Z",
     "shell.execute_reply.started": "2021-11-26T11:59:31.620669Z"
    }
   },
   "outputs": [
    {
     "data": {
      "text/plain": [
       "0.9243902439024391"
      ]
     },
     "execution_count": 51,
     "metadata": {},
     "output_type": "execute_result"
    }
   ],
   "source": [
    "nltk.classify.accuracy(classifier_sklearn,testing_data)"
   ]
  },
  {
   "cell_type": "code",
   "execution_count": 52,
   "metadata": {
    "execution": {
     "iopub.execute_input": "2021-11-26T12:01:17.564040Z",
     "iopub.status.busy": "2021-11-26T12:01:17.563530Z",
     "iopub.status.idle": "2021-11-26T12:08:45.396420Z",
     "shell.execute_reply": "2021-11-26T12:08:45.395557Z",
     "shell.execute_reply.started": "2021-11-26T12:01:17.563995Z"
    }
   },
   "outputs": [
    {
     "data": {
      "text/plain": [
       "0.9115853658536586"
      ]
     },
     "execution_count": 52,
     "metadata": {},
     "output_type": "execute_result"
    }
   ],
   "source": [
    "from sklearn.ensemble import RandomForestClassifier\n",
    "rfc = RandomForestClassifier()\n",
    "classifier_sklearn_rfc = SklearnClassifier(rfc)\n",
    "classifier_sklearn_rfc.train(training_data)\n",
    "nltk.classify.accuracy(classifier_sklearn_rfc,testing_data)"
   ]
  },
  {
   "cell_type": "markdown",
   "metadata": {},
   "source": [
    "## In the trailing lines I'll use sklearn classifier to train the data and hence the data is designed on the base of the requirenment of sklearn classifier."
   ]
  },
  {
   "cell_type": "code",
   "execution_count": 53,
   "metadata": {
    "execution": {
     "iopub.execute_input": "2021-11-26T12:08:45.398876Z",
     "iopub.status.busy": "2021-11-26T12:08:45.398324Z",
     "iopub.status.idle": "2021-11-26T12:08:45.431077Z",
     "shell.execute_reply": "2021-11-26T12:08:45.429939Z",
     "shell.execute_reply.started": "2021-11-26T12:08:45.398825Z"
    }
   },
   "outputs": [],
   "source": [
    "categories = [category for document, category in document]\n",
    "documents = [\" \".join(document) for document, category in document]"
   ]
  },
  {
   "cell_type": "code",
   "execution_count": 54,
   "metadata": {
    "execution": {
     "iopub.execute_input": "2021-11-26T12:13:07.826635Z",
     "iopub.status.busy": "2021-11-26T12:13:07.826202Z",
     "iopub.status.idle": "2021-11-26T12:13:07.842667Z",
     "shell.execute_reply": "2021-11-26T12:13:07.841422Z",
     "shell.execute_reply.started": "2021-11-26T12:13:07.826587Z"
    }
   },
   "outputs": [],
   "source": [
    "x_train, x_test, y_train, y_test = train_test_split(documents, categories,test_size = 0.10)"
   ]
  },
  {
   "cell_type": "code",
   "execution_count": 55,
   "metadata": {
    "execution": {
     "iopub.execute_input": "2021-11-26T12:13:09.239706Z",
     "iopub.status.busy": "2021-11-26T12:13:09.239333Z",
     "iopub.status.idle": "2021-11-26T12:13:10.081567Z",
     "shell.execute_reply": "2021-11-26T12:13:10.080702Z",
     "shell.execute_reply.started": "2021-11-26T12:13:09.239670Z"
    }
   },
   "outputs": [],
   "source": [
    "count_vec = CountVectorizer(max_features = 2500,ngram_range = (1,2))\n",
    "x_train = count_vec.fit_transform(x_train)\n",
    "x_test = count_vec.transform(x_test)"
   ]
  },
  {
   "cell_type": "code",
   "execution_count": 56,
   "metadata": {
    "execution": {
     "iopub.execute_input": "2021-11-26T12:13:11.225992Z",
     "iopub.status.busy": "2021-11-26T12:13:11.225290Z",
     "iopub.status.idle": "2021-11-26T12:13:22.780810Z",
     "shell.execute_reply": "2021-11-26T12:13:22.779846Z",
     "shell.execute_reply.started": "2021-11-26T12:13:11.225951Z"
    }
   },
   "outputs": [
    {
     "data": {
      "text/plain": [
       "SVC()"
      ]
     },
     "execution_count": 56,
     "metadata": {},
     "output_type": "execute_result"
    }
   ],
   "source": [
    "svc = SVC()\n",
    "svc.fit(x_train, y_train)"
   ]
  },
  {
   "cell_type": "code",
   "execution_count": 57,
   "metadata": {
    "execution": {
     "iopub.execute_input": "2021-11-26T12:13:23.853729Z",
     "iopub.status.busy": "2021-11-26T12:13:23.853343Z",
     "iopub.status.idle": "2021-11-26T12:13:24.917472Z",
     "shell.execute_reply": "2021-11-26T12:13:24.916493Z",
     "shell.execute_reply.started": "2021-11-26T12:13:23.853684Z"
    }
   },
   "outputs": [
    {
     "data": {
      "text/plain": [
       "0.9262295081967213"
      ]
     },
     "execution_count": 57,
     "metadata": {},
     "output_type": "execute_result"
    }
   ],
   "source": [
    "svc.score(x_test, y_test)"
   ]
  },
  {
   "cell_type": "markdown",
   "metadata": {},
   "source": [
    "### Desicion Tree"
   ]
  },
  {
   "cell_type": "code",
   "execution_count": 58,
   "metadata": {
    "execution": {
     "iopub.execute_input": "2021-11-26T12:13:24.919824Z",
     "iopub.status.busy": "2021-11-26T12:13:24.919513Z",
     "iopub.status.idle": "2021-11-26T12:13:25.543290Z",
     "shell.execute_reply": "2021-11-26T12:13:25.542517Z",
     "shell.execute_reply.started": "2021-11-26T12:13:24.919791Z"
    }
   },
   "outputs": [
    {
     "data": {
      "text/plain": [
       "DecisionTreeClassifier()"
      ]
     },
     "execution_count": 58,
     "metadata": {},
     "output_type": "execute_result"
    }
   ],
   "source": [
    "ds = DecisionTreeClassifier()\n",
    "ds.fit(x_train,y_train)"
   ]
  },
  {
   "cell_type": "code",
   "execution_count": 59,
   "metadata": {
    "execution": {
     "iopub.execute_input": "2021-11-26T12:13:25.545197Z",
     "iopub.status.busy": "2021-11-26T12:13:25.544477Z",
     "iopub.status.idle": "2021-11-26T12:13:25.551103Z",
     "shell.execute_reply": "2021-11-26T12:13:25.550049Z",
     "shell.execute_reply.started": "2021-11-26T12:13:25.545142Z"
    }
   },
   "outputs": [],
   "source": [
    "ds_prediction =  ds.predict(x_test)"
   ]
  },
  {
   "cell_type": "code",
   "execution_count": 60,
   "metadata": {
    "execution": {
     "iopub.execute_input": "2021-11-26T12:13:25.553894Z",
     "iopub.status.busy": "2021-11-26T12:13:25.553417Z",
     "iopub.status.idle": "2021-11-26T12:13:25.567445Z",
     "shell.execute_reply": "2021-11-26T12:13:25.566533Z",
     "shell.execute_reply.started": "2021-11-26T12:13:25.553845Z"
    }
   },
   "outputs": [
    {
     "data": {
      "text/plain": [
       "0.8941256830601093"
      ]
     },
     "execution_count": 60,
     "metadata": {},
     "output_type": "execute_result"
    }
   ],
   "source": [
    "accuracy_score(ds_prediction,y_test)"
   ]
  },
  {
   "cell_type": "markdown",
   "metadata": {},
   "source": [
    "### Random Forest "
   ]
  },
  {
   "cell_type": "code",
   "execution_count": 61,
   "metadata": {
    "execution": {
     "iopub.execute_input": "2021-11-26T12:13:26.247436Z",
     "iopub.status.busy": "2021-11-26T12:13:26.246486Z",
     "iopub.status.idle": "2021-11-26T12:13:34.331911Z",
     "shell.execute_reply": "2021-11-26T12:13:34.330947Z",
     "shell.execute_reply.started": "2021-11-26T12:13:26.247390Z"
    }
   },
   "outputs": [
    {
     "data": {
      "text/plain": [
       "RandomForestClassifier()"
      ]
     },
     "execution_count": 61,
     "metadata": {},
     "output_type": "execute_result"
    }
   ],
   "source": [
    "rf = RandomForestClassifier()\n",
    "rf.fit(x_train,y_train)"
   ]
  },
  {
   "cell_type": "code",
   "execution_count": 62,
   "metadata": {
    "execution": {
     "iopub.execute_input": "2021-11-26T12:13:34.334837Z",
     "iopub.status.busy": "2021-11-26T12:13:34.333951Z",
     "iopub.status.idle": "2021-11-26T12:13:34.413318Z",
     "shell.execute_reply": "2021-11-26T12:13:34.412372Z",
     "shell.execute_reply.started": "2021-11-26T12:13:34.334783Z"
    }
   },
   "outputs": [],
   "source": [
    "rf_prediction =  rf.predict(x_test)"
   ]
  },
  {
   "cell_type": "code",
   "execution_count": 64,
   "metadata": {
    "execution": {
     "iopub.execute_input": "2021-11-26T12:15:04.957775Z",
     "iopub.status.busy": "2021-11-26T12:15:04.957221Z",
     "iopub.status.idle": "2021-11-26T12:15:04.965734Z",
     "shell.execute_reply": "2021-11-26T12:15:04.964757Z",
     "shell.execute_reply.started": "2021-11-26T12:15:04.957737Z"
    }
   },
   "outputs": [
    {
     "data": {
      "text/plain": [
       "0.9282786885245902"
      ]
     },
     "execution_count": 64,
     "metadata": {},
     "output_type": "execute_result"
    }
   ],
   "source": [
    "accuracy_score(rf_prediction,y_test)"
   ]
  },
  {
   "cell_type": "code",
   "execution_count": null,
   "metadata": {},
   "outputs": [],
   "source": []
  }
 ],
 "metadata": {
  "kernelspec": {
   "display_name": "Python 3",
   "language": "python",
   "name": "python3"
  },
  "language_info": {
   "codemirror_mode": {
    "name": "ipython",
    "version": 3
   },
   "file_extension": ".py",
   "mimetype": "text/x-python",
   "name": "python",
   "nbconvert_exporter": "python",
   "pygments_lexer": "ipython3",
   "version": "3.8.3"
  }
 },
 "nbformat": 4,
 "nbformat_minor": 4
}
