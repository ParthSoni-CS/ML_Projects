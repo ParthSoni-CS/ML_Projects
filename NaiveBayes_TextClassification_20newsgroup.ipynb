{
 "cells": [
  {
   "cell_type": "markdown",
   "metadata": {},
   "source": [
    "### This is the text classification project using naive bayes\n",
    "#### This project uses the dataset from https://archive.ics.uci.edu/ml/datasets/Twenty+Newsgroups\n",
    "#### It is implemented by designing model from scratch \n",
    "#### Vocabulary list is created from the dataset which are proved from the link above \n",
    "#### Proper X_train and Y_train are created from this "
   ]
  },
  {
   "cell_type": "code",
   "execution_count": 1,
   "metadata": {},
   "outputs": [],
   "source": [
    "import os,sys \n",
    "import re,string\n",
    "import matplotlib.pyplot as plt\n",
    "import numpy as np\n",
    "from sklearn import model_selection \n",
    "from sklearn.naive_bayes import MultinomialNB\n",
    "from sklearn.metrics import classification_report,confusion_matrix,accuracy_score"
   ]
  },
  {
   "cell_type": "markdown",
   "metadata": {},
   "source": [
    "### Setting stop words and block words"
   ]
  },
  {
   "cell_type": "code",
   "execution_count": 2,
   "metadata": {},
   "outputs": [],
   "source": [
    "stop_words = [\"i\", \"me\", \"my\", \"myself\", \"we\", \"our\", \"ours\", \"ourselves\", \"you\", \"your\", \"yours\", \"yourself\", \"yourselves\",\n",
    "\"he\", \"him\", \"his\", \"himself\", \"she\", \"her\", \"hers\", \"herself\", \"it\", \"its\", \"itself\", \"they\", \"them\", \"their\", \"theirs\", \n",
    "\"themselves\", \"what\", \"which\", \"who\",\"don't\", \"whom\", \"this\", \"that\", \"these\", \"those\", \"am\", \"is\", \"are\", \"was\",\"were\", \"be\",\n",
    "\"been\", \"being\", \"have\", \"has\", \"had\", \"having\", \"do\", \"does\", \"did\", \"doing\", \"a\", \"an\", \"the\", \"and\",\n",
    " \"but\", \"if\", \"or\", \"because\", \"as\", \"until\", \"while\", \"of\", \"at\", \"by\", \"for\", \"with\", \"about\", \"against\", \"between\",\n",
    " \"into\", \"through\", \"during\", \"before\", \"after\", \"above\", \"below\", \"to\", \"from\", \"up\", \"down\", \"in\", \"out\", \"on\", \"off\", \n",
    " \"over\", \"under\", \"again\", \"further\", \"then\", \"once\", \"here\", \"there\", \"when\", \"where\", \"why\", \"how\", \"all\", \"any\", \"both\",\n",
    " \"each\", \"few\", \"more\", \"most\", \"other\", \"some\", \"such\", \"no\", \"nor\", \"not\", \"only\", \"own\", \"same\", \"so\", \"than\", \"too\",\n",
    " \"very\", \"s\", \"t\", \"can\", \"will\", \"just\", \"don\", \"should\", \"now\"]\n",
    "\n",
    "block_words = ['sender:','subject:','writes:','references:','organization:','from:','date:','>i','22','|>','>>','reply-to:','xref:','newsgroups:','>in','>the',\n",
    "'message-id:','lines:','path:','re:','--','sender:','last','better','never','every','even','two','good','used','first','need','going','must','really',\n",
    "'might','well','without','made','give','look','try','far','less','seem','new','make','many','way','since','using','take','help','thanks','send','free','may',\n",
    "'see','much','want','find','would','one','like','get','use','also','could','say','us','go','please','said','set','got','sure','come','lot','seems','able','anything','put']"
   ]
  },
  {
   "cell_type": "markdown",
   "metadata": {},
   "source": [
    "### Importing data from system "
   ]
  },
  {
   "cell_type": "code",
   "execution_count": 3,
   "metadata": {},
   "outputs": [
    {
     "data": {
      "text/plain": [
       "['alt.atheism',\n",
       " 'comp.graphics',\n",
       " 'comp.os.ms-windows.misc',\n",
       " 'comp.sys.ibm.pc.hardware',\n",
       " 'comp.sys.mac.hardware',\n",
       " 'comp.windows.x',\n",
       " 'misc.forsale',\n",
       " 'rec.autos',\n",
       " 'rec.motorcycles',\n",
       " 'rec.sport.baseball',\n",
       " 'rec.sport.hockey',\n",
       " 'sci.crypt',\n",
       " 'sci.electronics',\n",
       " 'sci.med',\n",
       " 'sci.space',\n",
       " 'soc.religion.christian',\n",
       " 'talk.politics.guns',\n",
       " 'talk.politics.mideast',\n",
       " 'talk.politics.misc',\n",
       " 'talk.religion.misc']"
      ]
     },
     "execution_count": 3,
     "metadata": {},
     "output_type": "execute_result"
    }
   ],
   "source": [
    "types = [ i for i in os.listdir(\"D:/ML Projects/Naive Bayes/20 newspaper/20_newsgroups\")]\n",
    "types"
   ]
  },
  {
   "cell_type": "markdown",
   "metadata": {},
   "source": [
    "### Creating Word frequency dictionary and setting up Y values "
   ]
  },
  {
   "cell_type": "code",
   "execution_count": 4,
   "metadata": {},
   "outputs": [
    {
     "name": "stdout",
     "output_type": "stream",
     "text": [
      "19997\n"
     ]
    }
   ],
   "source": [
    "word_dict = {}\n",
    "y = []\n",
    "count = 0\n",
    "for typ in types:\n",
    "    for j in os.listdir(\"D:/ML Projects/Naive Bayes/20 newspaper/20_newsgroups/\"+typ):\n",
    "        count = count + 1\n",
    "        with open(\"D:/ML Projects/Naive Bayes/20 newspaper/20_newsgroups/\"+typ+'/'+j,\"r\", errors = \"ignore\") as f:\n",
    "            message = f.read()\n",
    "            message = message.lower()\n",
    "            stripped_message = re.split(r'\\W+',message)\n",
    "            \n",
    "            y.append(typ)\n",
    "            for i in stripped_message:\n",
    "                if not(i.isalpha()) or i in stop_words or i in block_words or len(i)<=2:\n",
    "                    continue\n",
    "                if i in word_dict:\n",
    "                    word_dict[i]+=1\n",
    "                else:\n",
    "                    word_dict[i]=1\n",
    "                \n",
    "                \n",
    "\n",
    "print(len(y))\n",
    "#word_dict"
   ]
  },
  {
   "cell_type": "code",
   "execution_count": 5,
   "metadata": {},
   "outputs": [
    {
     "name": "stdout",
     "output_type": "stream",
     "text": [
      "length of sorted_word_list 106097\n"
     ]
    }
   ],
   "source": [
    "import operator \n",
    "sorted_word_list = sorted(word_dict.items(), key=operator.itemgetter(1), reverse = True)\n",
    "print(\"length of sorted_word_list\",len(sorted_word_list))\n",
    "#sorted_word_list"
   ]
  },
  {
   "cell_type": "markdown",
   "metadata": {},
   "source": [
    "   ### Taking first 2500 features "
   ]
  },
  {
   "cell_type": "code",
   "execution_count": 6,
   "metadata": {},
   "outputs": [],
   "source": [
    "top_features = []\n",
    "for i in range(2500):\n",
    "    top_features.append(sorted_word_list[i][0])"
   ]
  },
  {
   "cell_type": "markdown",
   "metadata": {},
   "source": [
    "### plotting index vs frequency graph for sorted_word_list "
   ]
  },
  {
   "cell_type": "code",
   "execution_count": 7,
   "metadata": {},
   "outputs": [
    {
     "data": {
      "image/png": "[encoded data removed]",
      "text/plain": [
       "<Figure size 432x288 with 1 Axes>"
      ]
     },
     "metadata": {
      "needs_background": "light"
     },
     "output_type": "display_data"
    }
   ],
   "source": [
    "x_axis = []\n",
    "y_axis = []\n",
    "for i in range(len(sorted_word_list)):\n",
    "    x_axis.append(i)\n",
    "    y_axis.append(sorted_word_list[i][1])\n",
    "plt.xlabel('index')\n",
    "plt.ylabel('frequency')\n",
    "plt.plot(x_axis,y_axis)\n",
    "plt.axis([0,8000,1,5000])\n",
    "plt.grid()\n",
    "plt.show() "
   ]
  },
  {
   "cell_type": "code",
   "execution_count": 8,
   "metadata": {},
   "outputs": [],
   "source": [
    "X = np.zeros([count,len(top_features)],int)\n",
    "c = 0\n",
    "for typ in types:\n",
    "    for j in os.listdir(\"D:/ML Projects/Naive Bayes/20 newspaper/20_newsgroups/\"+typ):\n",
    "        with open(\"D:/ML Projects/Naive Bayes/20 newspaper/20_newsgroups/\"+typ+'/'+j,\"r\", errors = \"ignore\") as f:\n",
    "            message = f.read()\n",
    "            message = message.lower()\n",
    "            word = re.split(r'\\W+',message)\n",
    "            \n",
    "            for j in word:\n",
    "                if j in top_features:\n",
    "                    X[c][top_features.index(j)] += 1\n",
    "            c += 1"
   ]
  },
  {
   "cell_type": "code",
   "execution_count": 9,
   "metadata": {},
   "outputs": [
    {
     "data": {
      "text/plain": [
       "(19997, 2500)"
      ]
     },
     "execution_count": 9,
     "metadata": {},
     "output_type": "execute_result"
    }
   ],
   "source": [
    "X.shape"
   ]
  },
  {
   "cell_type": "code",
   "execution_count": 10,
   "metadata": {},
   "outputs": [
    {
     "data": {
      "text/plain": [
       "19997"
      ]
     },
     "execution_count": 10,
     "metadata": {},
     "output_type": "execute_result"
    }
   ],
   "source": [
    "len(y)"
   ]
  },
  {
   "cell_type": "markdown",
   "metadata": {},
   "source": [
    "## Implementing Naive Bayes using sklearn "
   ]
  },
  {
   "cell_type": "code",
   "execution_count": 11,
   "metadata": {},
   "outputs": [],
   "source": [
    "X_train, X_test, Y_train, Y_test = model_selection.train_test_split(X,y,test_size=0.15,random_state=0)\n",
    "#Y_train"
   ]
  },
  {
   "cell_type": "code",
   "execution_count": 12,
   "metadata": {
    "scrolled": false
   },
   "outputs": [
    {
     "name": "stdout",
     "output_type": "stream",
     "text": [
      "Score on training data: 0.898217332470436\n",
      "Score on testing data: 0.86\n",
      "[[129   0   0   0   0   0   1   1   1   0   0   0   1   1   0   2   0   0\n",
      "    0  21]\n",
      " [  0 111   8   7   3   5   1   2   0   0   0   0   3   0   1   0   0   0\n",
      "    0   0]\n",
      " [  0   4 114  12   1   7   3   0   0   0   0   1   1   1   0   0   0   0\n",
      "    0   0]\n",
      " [  0   0   3 121  13   0   2   0   1   0   0   0   1   0   0   0   0   0\n",
      "    0   0]\n",
      " [  0   1   0  17 121   0   6   0   0   0   0   0   1   0   0   0   0   0\n",
      "    0   0]\n",
      " [  0  14  11   6   4 106   0   0   0   0   0   1   2   0   0   0   0   0\n",
      "    0   0]\n",
      " [  0   0   0   5   1   0 138   3   2   0   1   1   2   0   0   0   1   0\n",
      "    0   0]\n",
      " [  0   0   0   0   1   0   6 149   6   1   1   0   5   0   0   0   0   0\n",
      "    0   0]\n",
      " [  0   0   0   0   0   0   1   3 166   0   0   0   0   0   0   0   0   0\n",
      "    0   0]\n",
      " [  0   0   0   0   0   0   1   0   2 137   6   0   0   0   0   0   0   0\n",
      "    0   0]\n",
      " [  0   0   0   0   0   0   0   0   1   2 138   0   0   0   0   0   0   0\n",
      "    0   0]\n",
      " [  0   2   0   0   0   1   1   0   0   0   0 135   1   1   0   0   0   0\n",
      "    0   0]\n",
      " [  0   0   0   3   3   0   1   3   2   1   0   1 130   2   0   0   0   0\n",
      "    0   0]\n",
      " [  0   3   0   0   1   1   2   2   5   2   0   0   8 133   4   0   0   0\n",
      "    0   0]\n",
      " [  0   1   0   1   0   0   1   2   2   1   2   0   1   2 133   0   0   0\n",
      "    1   0]\n",
      " [  0   0   0   0   0   0   0   0   0   0   0   0   0   0   0 141   0   0\n",
      "    0   0]\n",
      " [  0   0   0   1   0   0   0   0   1   0   0   3   0   0   0   0 131   0\n",
      "   10   3]\n",
      " [  0   0   0   3   2   0   1   2   2   1   0   0   0   0   1   0   1 143\n",
      "   11   1]\n",
      " [  0   0   0   0   0   0   1   0   0   1   0   3   0   1   1   2  20   6\n",
      "  103   9]\n",
      " [ 19   0   0   0   0   0   0   1   0   0   1   0   0   1   0   5   7   1\n",
      "   11 101]]\n",
      "                          precision    recall  f1-score   support\n",
      "\n",
      "             alt.atheism       0.87      0.82      0.85       157\n",
      "           comp.graphics       0.82      0.79      0.80       141\n",
      " comp.os.ms-windows.misc       0.84      0.79      0.81       144\n",
      "comp.sys.ibm.pc.hardware       0.69      0.86      0.76       141\n",
      "   comp.sys.mac.hardware       0.81      0.83      0.82       146\n",
      "          comp.windows.x       0.88      0.74      0.80       144\n",
      "            misc.forsale       0.83      0.90      0.86       154\n",
      "               rec.autos       0.89      0.88      0.88       169\n",
      "         rec.motorcycles       0.87      0.98      0.92       170\n",
      "      rec.sport.baseball       0.94      0.94      0.94       146\n",
      "        rec.sport.hockey       0.93      0.98      0.95       141\n",
      "               sci.crypt       0.93      0.96      0.94       141\n",
      "         sci.electronics       0.83      0.89      0.86       146\n",
      "                 sci.med       0.94      0.83      0.88       161\n",
      "               sci.space       0.95      0.90      0.93       147\n",
      "  soc.religion.christian       0.94      1.00      0.97       141\n",
      "      talk.politics.guns       0.82      0.88      0.85       149\n",
      "   talk.politics.mideast       0.95      0.85      0.90       168\n",
      "      talk.politics.misc       0.76      0.70      0.73       147\n",
      "      talk.religion.misc       0.75      0.69      0.72       147\n",
      "\n",
      "                accuracy                           0.86      3000\n",
      "               macro avg       0.86      0.86      0.86      3000\n",
      "            weighted avg       0.86      0.86      0.86      3000\n",
      "\n"
     ]
    }
   ],
   "source": [
    "clf=MultinomialNB()\n",
    "clf.fit(X_train,Y_train)\n",
    "Y_pred=clf.predict(X_test)\n",
    "print(\"Score on training data:\",clf.score(X_train,Y_train))\n",
    "print(\"Score on testing data:\",clf.score(X_test,Y_test))\n",
    "print(confusion_matrix(Y_test,Y_pred))\n",
    "print(classification_report(Y_test,Y_pred))"
   ]
  },
  {
   "cell_type": "markdown",
   "metadata": {},
   "source": [
    "## Implementing multinomial without help of libraries, by scratch.\n",
    "\n",
    "## Creating a dictionary for training data\n",
    "### Dictionary contains classes as its key and the value of these classes is another dictionary.\n",
    "### Within this inside dictionary individual features are going to act as keys.\n",
    "### The values of these keys contain another dictonary and keys are the unique value of each feature\n",
    "### and the values are going to be the number of counts they are repeated.\n",
    "\n",
    "\n",
    "### function fit is going to take care of this requirement "
   ]
  },
  {
   "cell_type": "code",
   "execution_count": 13,
   "metadata": {},
   "outputs": [],
   "source": [
    "def fit(X_train, Y_train):\n",
    "    dictionary = {}\n",
    "    # To get all the unique values for classes i'm going to use set() function. \n",
    "    Y_train = np.array(Y_train)\n",
    "    class_values = set(Y_train)\n",
    "    # Creating the total_data key for counting the number of rows. \n",
    "    dictionary[\"total_data\"] = len(Y_train)\n",
    "    # Iterating for each class.\n",
    "    for current_class in class_values:\n",
    "        word_count_class = 0\n",
    "        \n",
    "        \n",
    "        X_train_current = X_train[Y_train==current_class]\n",
    "      \n",
    "        # These are X and Y train for the current iterating class.\n",
    "        # Now for dictonary inside this main dict we need the number of features. \n",
    "        #num_features = X_train.shape[1]\n",
    "        \n",
    "        # Now iterating over features for the current_class.\n",
    "        dictionary[current_class] = {}\n",
    "        for j in top_features:\n",
    "            dictionary[current_class][j] = {}\n",
    "            l = (X_train_current[:,top_features.index(j)]).sum()\n",
    "            dictionary[current_class][j] = l\n",
    "            word_count_class += l\n",
    "         \n",
    "        dictionary[current_class][\"word_in_class\"] = word_count_class\n",
    "        # Inside this nested dictionary I'm going to create total_data_count key to count the number of rows for each class. \n",
    "        dictionary[current_class][\"total_data_count\"] = X_train_current.shape[0]\n",
    "    return dictionary "
   ]
  },
  {
   "cell_type": "code",
   "execution_count": 14,
   "metadata": {},
   "outputs": [],
   "source": [
    "#probability formula implementation \n",
    "def probability(dictionary, x, current_class):\n",
    "    probability_for_class = np.log(dictionary[current_class][\"total_data_count\"]) - np.log(dictionary[\"total_data\"])\n",
    "    feature = list(dictionary[current_class].keys())\n",
    "    feature_number = len(feature) - 2\n",
    "    # word_in_class and total_data_count are not features \n",
    "    for i in range(feature_number):\n",
    "        x_i_feature = x[i]\n",
    "        if x_i_feature == 0:\n",
    "            probability_for_feature_class = 0\n",
    "        else:\n",
    "            num = dictionary[current_class][feature[i]]+1\n",
    "            deno = dictionary[current_class][\"word_in_class\"] + feature_number\n",
    "            probability_for_feature_class = np.log(num) - np.log(deno)\n",
    "        probability_for_class += probability_for_feature_class\n",
    "    return probability_for_class\n",
    "        "
   ]
  },
  {
   "cell_type": "code",
   "execution_count": 15,
   "metadata": {},
   "outputs": [],
   "source": [
    "#probability prediction for a single row \n",
    "def predict_row(dictionary, x):\n",
    "    classes = dictionary.keys()\n",
    "    best_p = -1000\n",
    "    best_class = -1\n",
    "    first_run = True\n",
    "    for current_class in classes:\n",
    "        if (current_class == \"total_data\"):\n",
    "            continue\n",
    "        p_current_class = probability(dictionary, x, current_class)\n",
    "        if (first_run or p_current_class > best_p):\n",
    "            best_p = p_current_class\n",
    "            best_class = current_class\n",
    "            first_run = False\n",
    "    return best_class"
   ]
  },
  {
   "cell_type": "markdown",
   "metadata": {},
   "source": [
    "### Here, predict function is going to find the probablity using navie base "
   ]
  },
  {
   "cell_type": "code",
   "execution_count": 16,
   "metadata": {},
   "outputs": [],
   "source": [
    "# defining predict function for probabylity on X_test \n",
    "def predict(dictionary, X_test):\n",
    "    y_pred = []\n",
    "    for x in X_test:\n",
    "        x_class = predict_row(dictionary,x)\n",
    "        y_pred.append(x_class)\n",
    "    return y_pred"
   ]
  },
  {
   "cell_type": "code",
   "execution_count": 17,
   "metadata": {},
   "outputs": [],
   "source": [
    "dictionary = fit(X_train,Y_train)\n",
    "#dictionary "
   ]
  },
  {
   "cell_type": "code",
   "execution_count": 18,
   "metadata": {},
   "outputs": [],
   "source": [
    "Y_pred = predict(dictionary,X_test)"
   ]
  },
  {
   "cell_type": "code",
   "execution_count": 19,
   "metadata": {},
   "outputs": [
    {
     "name": "stdout",
     "output_type": "stream",
     "text": [
      "[[135   0   0   1   0   0   1   1   1   1   0   0   1   1   0   0   0   0\n",
      "    2  13]\n",
      " [  0 116   4  11   3   2   1   0   0   0   0   0   3   1   0   0   0   0\n",
      "    0   0]\n",
      " [  0   9 103  15   2   9   3   0   0   0   0   1   1   0   0   0   0   0\n",
      "    1   0]\n",
      " [  0   4   0 125   9   0   2   0   0   0   0   0   1   0   0   0   0   0\n",
      "    0   0]\n",
      " [  0   2   0  10 130   0   4   0   0   0   0   0   0   0   0   0   0   0\n",
      "    0   0]\n",
      " [  0  15   9   2   2 114   0   0   1   0   0   1   0   0   0   0   0   0\n",
      "    0   0]\n",
      " [  0   0   0   6   0   0 136   3   0   0   0   1   7   0   0   0   0   0\n",
      "    1   0]\n",
      " [  0   0   0   0   1   1   7 152   2   0   0   0   4   0   0   0   1   0\n",
      "    1   0]\n",
      " [  0   0   0   0   0   0   1   1 167   0   0   0   0   1   0   0   0   0\n",
      "    0   0]\n",
      " [  0   0   0   0   0   0   0   0   2 140   4   0   0   0   0   0   0   0\n",
      "    0   0]\n",
      " [  0   0   0   0   0   0   0   0   1   0 140   0   0   0   0   0   0   0\n",
      "    0   0]\n",
      " [  0   1   0   0   0   0   0   0   0   0   0 139   1   0   0   0   0   0\n",
      "    0   0]\n",
      " [  0   0   0   1   1   0   1   1   0   0   0   0 141   1   0   0   0   0\n",
      "    0   0]\n",
      " [  0   6   0   0   1   0   1   1   2   0   1   0   5 143   1   0   0   0\n",
      "    0   0]\n",
      " [  0   3   0   0   0   0   2   0   1   0   0   0   3   1 136   0   0   0\n",
      "    1   0]\n",
      " [  0   0   0   0   0   0   0   0   0   0   0   0   0   0   0 141   0   0\n",
      "    0   0]\n",
      " [  0   0   0   0   0   0   0   0   0   0   0   2   0   0   0   0 136   0\n",
      "   10   1]\n",
      " [  0   0   0   1   1   0   2   0   0   0   0   0   0   0   1   0   3 150\n",
      "    9   1]\n",
      " [  0   0   0   0   0   0   0   0   0   1   0   2   0   1   2   0  22   5\n",
      "  107   7]\n",
      " [ 29   0   0   0   0   0   1   0   0   0   0   0   0   0   0   6   9   1\n",
      "   15  86]]\n",
      "                          precision    recall  f1-score   support\n",
      "\n",
      "             alt.atheism       0.82      0.86      0.84       157\n",
      "           comp.graphics       0.74      0.82      0.78       141\n",
      " comp.os.ms-windows.misc       0.89      0.72      0.79       144\n",
      "comp.sys.ibm.pc.hardware       0.73      0.89      0.80       141\n",
      "   comp.sys.mac.hardware       0.87      0.89      0.88       146\n",
      "          comp.windows.x       0.90      0.79      0.84       144\n",
      "            misc.forsale       0.84      0.88      0.86       154\n",
      "               rec.autos       0.96      0.90      0.93       169\n",
      "         rec.motorcycles       0.94      0.98      0.96       170\n",
      "      rec.sport.baseball       0.99      0.96      0.97       146\n",
      "        rec.sport.hockey       0.97      0.99      0.98       141\n",
      "               sci.crypt       0.95      0.99      0.97       141\n",
      "         sci.electronics       0.84      0.97      0.90       146\n",
      "                 sci.med       0.96      0.89      0.92       161\n",
      "               sci.space       0.97      0.93      0.95       147\n",
      "  soc.religion.christian       0.96      1.00      0.98       141\n",
      "      talk.politics.guns       0.80      0.91      0.85       149\n",
      "   talk.politics.mideast       0.96      0.89      0.93       168\n",
      "      talk.politics.misc       0.73      0.73      0.73       147\n",
      "      talk.religion.misc       0.80      0.59      0.67       147\n",
      "\n",
      "                accuracy                           0.88      3000\n",
      "               macro avg       0.88      0.88      0.88      3000\n",
      "            weighted avg       0.88      0.88      0.88      3000\n",
      "\n"
     ]
    }
   ],
   "source": [
    "print(confusion_matrix(Y_test,Y_pred))\n",
    "print(classification_report(Y_test,Y_pred))"
   ]
  }
 ],
 "metadata": {
  "kernelspec": {
   "display_name": "Python 3",
   "language": "python",
   "name": "python3"
  },
  "language_info": {
   "codemirror_mode": {
    "name": "ipython",
    "version": 3
   },
   "file_extension": ".py",
   "mimetype": "text/x-python",
   "name": "python",
   "nbconvert_exporter": "python",
   "pygments_lexer": "ipython3",
   "version": "3.8.3"
  }
 },
 "nbformat": 4,
 "nbformat_minor": 4
}
